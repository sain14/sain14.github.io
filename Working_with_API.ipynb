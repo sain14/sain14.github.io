{
  "nbformat": 4,
  "nbformat_minor": 0,
  "metadata": {
    "colab": {
      "provenance": [],
      "authorship_tag": "ABX9TyMEz89pCembVSqWui0FmrXK",
      "include_colab_link": true
    },
    "kernelspec": {
      "name": "python3",
      "display_name": "Python 3"
    },
    "language_info": {
      "name": "python"
    }
  },
  "cells": [
    {
      "cell_type": "markdown",
      "metadata": {
        "id": "view-in-github",
        "colab_type": "text"
      },
      "source": [
        "<a href=\"https://colab.research.google.com/github/sain14/saindhavi_das.github.io/blob/main/Working_with_API.ipynb\" target=\"_parent\"><img src=\"https://colab.research.google.com/assets/colab-badge.svg\" alt=\"Open In Colab\"/></a>"
      ]
    },
    {
      "cell_type": "code",
      "source": [
        "# EXAMPLE 1"
      ],
      "metadata": {
        "id": "3hLro-GryLtc"
      },
      "execution_count": 25,
      "outputs": []
    },
    {
      "cell_type": "code",
      "execution_count": 1,
      "metadata": {
        "id": "OtcVN3hsjlVP"
      },
      "outputs": [],
      "source": [
        "import requests"
      ]
    },
    {
      "cell_type": "code",
      "source": [
        "import json"
      ],
      "metadata": {
        "id": "Fcl7X_wyjnXE"
      },
      "execution_count": 2,
      "outputs": []
    },
    {
      "cell_type": "code",
      "source": [
        "#api key and endpoint\n",
        "API_KEY = 'b007e62d4699582379b5991bdfe3548e'\n",
        "BASE_URL = 'https://api.openweathermap.org/data/2.5/weather'\n",
        "\n",
        "#city required\n",
        "city = \"Rome\"\n",
        "\n",
        "#full API url\n",
        "URL = f'{BASE_URL}?q={city}&appid={API_KEY}&units=metric'\n",
        "\n",
        "#making the api request\n",
        "response = requests.get(URL)\n",
        "\n",
        "#check if request successful\n",
        "if response.status_code == 200:\n",
        "\n",
        "  #convert to required format\n",
        "  data = response.json()\n",
        "\n",
        "  #extracting weather info\n",
        "  temperature = data['main']['temp']\n",
        "  humidity = data['main']['humidity']\n",
        "  description = data['weather'][0]['description']\n",
        "\n",
        "  #print weather data\n",
        "  print((f'Weather in {city}:').upper())\n",
        "  print(f'Temperature feels like {temperature} degree celsius in {city}')\n",
        "  print(f'Humidity is {humidity}%')\n",
        "  print(f'There may be - {description}!')\n",
        "\n",
        "else:\n",
        "  print(f'Error: Could not retrieve weather data (status code: {response.status_code})')\n",
        "\n",
        "\n"
      ],
      "metadata": {
        "colab": {
          "base_uri": "https://localhost:8080/"
        },
        "id": "gEFik-QIj6mL",
        "outputId": "26c373e7-3e85-4f50-81da-14ca3feb0aea"
      },
      "execution_count": 30,
      "outputs": [
        {
          "output_type": "stream",
          "name": "stdout",
          "text": [
            "WEATHER IN ROME:\n",
            "Temperature feels like 13 degree celsius in Rome\n",
            "Humidity is 87%\n",
            "There may be - clear sky!\n"
          ]
        }
      ]
    },
    {
      "cell_type": "code",
      "source": [],
      "metadata": {
        "id": "gSjTyq1lv1Gv"
      },
      "execution_count": null,
      "outputs": []
    }
  ]
}